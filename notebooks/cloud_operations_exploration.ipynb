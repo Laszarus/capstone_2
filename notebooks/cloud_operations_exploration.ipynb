{
 "cells": [
  {
   "cell_type": "code",
   "execution_count": null,
   "metadata": {},
   "outputs": [],
   "source": [
    "'''\n",
    "I have several CSV files (50 GB) in an S3 bucket in Amazon Cloud. \n",
    "I am trying to read these files in a Jupyter Notebook (with Python3 Kernel) using the following code: \n",
    "'''"
   ]
  },
  {
   "cell_type": "code",
   "execution_count": null,
   "metadata": {},
   "outputs": [],
   "source": [
    "import boto3\n",
    "from boto3 import session\n",
    "import pandas as pd\n",
    "\n",
    "session = boto3.session.Session(region_name='XXXX')\n",
    "s3client = session.client('s3', config = boto3.session.Config(signature_version='XXXX'))\n",
    "response = s3client.get_object(Bucket='myBucket', Key='myKey')\n",
    "\n",
    "names = ['id','origin','name']\n",
    "dataset = pd.read_csv(response['Body'], names=names)\n",
    "dataset.head() "
   ]
  },
  {
   "cell_type": "code",
   "execution_count": null,
   "metadata": {},
   "outputs": [],
   "source": [
    "'''\n",
    "I'm currently trying to display an image from a Mat file downloaded from this site.\n",
    "It's a .mat file so I tried loading it using spicy.io's load mat function but I can't seem to plot the image. \n",
    "What am I doing wrong?\n",
    "'''"
   ]
  },
  {
   "cell_type": "code",
   "execution_count": null,
   "metadata": {},
   "outputs": [],
   "source": [
    "import scipy\n",
    "import sklearn\n",
    "from sklearn.feature_extraction import image\n",
    "from scipy.io import loadmat\n",
    "import matplotlib.pyplot as plt\n",
    "import matplotlib.image as mpimg\n",
    "images = loadmat('IMAGES.mat',variable_names='IMAGES',appendmat=True).get('IMAGES')\n",
    "\n",
    "imgplot = plt.imshow(images[0])\n",
    "\n",
    "plt.show()"
   ]
  },
  {
   "cell_type": "code",
   "execution_count": null,
   "metadata": {},
   "outputs": [],
   "source": [
    "import boto3\n",
    "import io\n",
    "import pandas as pd\n",
    "import json\n",
    "\n",
    "aws_id = ''\n",
    "aws_secret = ''\n",
    "bucket_name = ''\n",
    "object_key = ''\n",
    "\n",
    "s3 = boto3.client('s3', aws_access_key_id=aws_id, aws_secret_access_key=aws_secret)\n",
    "obj = s3.get_object(Bucket=bucket_name, Key=object_key)\n",
    "data = obj['Body'].read()\n",
    "df = pd.read_excel(io.BytesIO(data), encoding='utf-8')"
   ]
  }
 ],
 "metadata": {
  "kernelspec": {
   "display_name": "Python 3",
   "language": "python",
   "name": "python3"
  },
  "language_info": {
   "codemirror_mode": {
    "name": "ipython",
    "version": 3
   },
   "file_extension": ".py",
   "mimetype": "text/x-python",
   "name": "python",
   "nbconvert_exporter": "python",
   "pygments_lexer": "ipython3",
   "version": "3.7.1"
  }
 },
 "nbformat": 4,
 "nbformat_minor": 2
}
