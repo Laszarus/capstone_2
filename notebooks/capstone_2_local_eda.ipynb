{
 "cells": [
  {
   "cell_type": "code",
   "execution_count": 160,
   "metadata": {},
   "outputs": [],
   "source": [
    "import scipy.io\n",
    "from PIL import Image\n",
    "import numpy as np\n",
    "import matplotlib.pyplot as plt\n",
    "%matplotlib inline \n",
    "\n",
    "from skimage import io, color, filters, feature, restoration\n",
    "from skimage.transform import resize, rotate\n",
    "from skimage.color import rgb2gray\n",
    "from sklearn.cluster import KMeans"
   ]
  },
  {
   "cell_type": "code",
   "execution_count": 161,
   "metadata": {},
   "outputs": [],
   "source": [
    "mat = scipy.io.loadmat('../data/sat-6-full.mat')"
   ]
  },
  {
   "cell_type": "code",
   "execution_count": 162,
   "metadata": {},
   "outputs": [
    {
     "data": {
      "text/plain": [
       "dict_keys(['__header__', '__version__', '__globals__', 'train_x', 'test_x', 'train_y', 'test_y', 'annotations'])"
      ]
     },
     "execution_count": 162,
     "metadata": {},
     "output_type": "execute_result"
    }
   ],
   "source": [
    "mat.keys()"
   ]
  },
  {
   "cell_type": "code",
   "execution_count": 176,
   "metadata": {},
   "outputs": [
    {
     "data": {
      "text/plain": [
       "array([[array(['100000'], dtype='<U6'), array(['building'], dtype='<U8')],\n",
       "       [array(['010000'], dtype='<U6'),\n",
       "        array(['barren land'], dtype='<U11')],\n",
       "       [array(['001000'], dtype='<U6'), array(['trees'], dtype='<U5')],\n",
       "       [array(['000100'], dtype='<U6'),\n",
       "        array(['grassland'], dtype='<U9')],\n",
       "       [array(['000010'], dtype='<U6'), array(['road'], dtype='<U4')],\n",
       "       [array(['000001'], dtype='<U6'), array(['water'], dtype='<U5')]],\n",
       "      dtype=object)"
      ]
     },
     "execution_count": 176,
     "metadata": {},
     "output_type": "execute_result"
    }
   ],
   "source": [
    "x_train = mat.get('train_x')\n",
    "y_train = mat.get('train_y')\n",
    "x_test = mat.get('test_x')\n",
    "y_test = mat.get('test_y')\n",
    "ann = mat.get('annotations')\n",
    "ann"
   ]
  },
  {
   "cell_type": "code",
   "execution_count": 164,
   "metadata": {},
   "outputs": [
    {
     "data": {
      "text/plain": [
       "(6, 324000)"
      ]
     },
     "execution_count": 164,
     "metadata": {},
     "output_type": "execute_result"
    }
   ],
   "source": [
    "y_train.shape"
   ]
  },
  {
   "cell_type": "code",
   "execution_count": 165,
   "metadata": {},
   "outputs": [],
   "source": [
    "x_train_play = x_train[:,:,:,0:1000]\n",
    "y_train_play = y_train[:,0:1000]\n",
    "x_test_play = x_test[:,:,:,0:1000]\n",
    "y_test_play = y_test[:,0:1000]"
   ]
  },
  {
   "cell_type": "code",
   "execution_count": 184,
   "metadata": {},
   "outputs": [
    {
     "data": {
      "text/plain": [
       "324000"
      ]
     },
     "execution_count": 184,
     "metadata": {},
     "output_type": "execute_result"
    }
   ],
   "source": [
    "# for i in range(test):\n",
    "#     data = train_x_play[:,:,:,i]\n",
    "#     img = Image.fromarray(data, 'RGBA')\n",
    "#     img.save(\"../data/train_x/img{}.png\".format(i))\n",
    "\n",
    "def create_classifier_list(y_array):\n",
    "    '''\n",
    "    Creates a list of classes for each corresponding image in the X population:\n",
    "    0 = building\n",
    "    1 = barren land\n",
    "    2 = trees\n",
    "    3 = grassland\n",
    "    4 = road\n",
    "    5 = water\n",
    "    '''\n",
    "    \n",
    "    i = 0\n",
    "    class_list = []\n",
    "    while i < len(y_array[1]):\n",
    "        class_cat = np.where(y_array[:,i]==1)\n",
    "        class_list.append(int(class_cat[0]))\n",
    "        i+=1\n",
    "    return class_list\n",
    "\n",
    "# def sort_save_x(x_array):\n",
    "#     '''\n",
    "#     Saves 28x28x4 images into corresponding classification folders\n",
    "#     '''\n",
    "\n",
    "i = 0\n",
    "for i in range(len(x_train_play[0,0,0,:])):\n",
    "    data = x_train_play[:,:,:,i]\n",
    "    img = Image.fromarray(data,'RGBA')\n",
    "   \n",
    "    if cls[i] == 0:\n",
    "        img.save(\"../data/train_x/0_building/img{}.jpg\".format(i))\n",
    "    elif cls[i] == 1:\n",
    "        img.save(\"../data/train_x/1_barren_land/img{}.jpg\".format(i))\n",
    "    elif cls[i] == 2:\n",
    "        img.save(\"../data/train_x/2_trees/img{}.jpg\".format(i))\n",
    "    elif cls[i] == 3:\n",
    "        img.save(\"../data/train_x/3_grassland/img{}.jpg\".format(i))\n",
    "    elif cls[i] == 4:\n",
    "        img.save(\"../data/train_x/4_road/img{}.jpg\".format(i))\n",
    "    else:\n",
    "        img.save(\"../data/train_x/5_water/img{}.jpg\".format(i))\n",
    "    \n",
    "    \n",
    "#     data = train_x_play[:,:,:,i]\n",
    "#     img = Image.fromarray(data, 'RGBA')\n",
    "#     img.save(\"../data/train_x/img{}.png\".format(i))\n",
    "            "
   ]
  },
  {
   "cell_type": "code",
   "execution_count": 171,
   "metadata": {},
   "outputs": [
    {
     "data": {
      "text/plain": [
       "array([0, 1, 0, 0, 0, 0], dtype=uint8)"
      ]
     },
     "execution_count": 171,
     "metadata": {},
     "output_type": "execute_result"
    }
   ],
   "source": []
  },
  {
   "cell_type": "code",
   "execution_count": null,
   "metadata": {},
   "outputs": [],
   "source": []
  }
 ],
 "metadata": {
  "kernelspec": {
   "display_name": "Python 3",
   "language": "python",
   "name": "python3"
  },
  "language_info": {
   "codemirror_mode": {
    "name": "ipython",
    "version": 3
   },
   "file_extension": ".py",
   "mimetype": "text/x-python",
   "name": "python",
   "nbconvert_exporter": "python",
   "pygments_lexer": "ipython3",
   "version": "3.7.1"
  }
 },
 "nbformat": 4,
 "nbformat_minor": 2
}
